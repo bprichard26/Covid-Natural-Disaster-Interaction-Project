{
 "cells": [
  {
   "cell_type": "code",
   "execution_count": 1,
   "metadata": {},
   "outputs": [],
   "source": [
    "import shapely\n",
    "import geopandas as gpd\n",
    "import pandas as pd\n",
    "import numpy as np\n",
    "# import matpltolib.pyplot as plt\n",
    "# import seaborn as sns"
   ]
  },
  {
   "cell_type": "markdown",
   "metadata": {},
   "source": [
    "## County Import\n",
    "\n",
    "U.S. County shapefiles downloaded from U.S. Census at their TIGER/Line Shapefile portal [here](https://www.census.gov/cgi-bin/geo/shapefiles/index.php). We used the most recent shapefiles updated in 2019 and selected Counties (and equivalent) as our layer. A table of FIP section codes by county per 2018 can be found [here](https://www.census.gov/geographies/reference-files/2018/demo/popest/2018-fips.html).\n",
    "\n",
    "This project focuses on the contiguous 48 states, therefore we drop entries for the states of Alaska and Hawaii as well as U.S. island territories such as American Samoa, Guam, and Peurto Rice."
   ]
  },
  {
   "cell_type": "code",
   "execution_count": 2,
   "metadata": {},
   "outputs": [
    {
     "data": {
      "text/plain": [
       "(3108, 3)"
      ]
     },
     "execution_count": 2,
     "metadata": {},
     "output_type": "execute_result"
    }
   ],
   "source": [
    "counties = gpd.read_file('../../project_4_data/us_counties/tl_2019_us_county.shp')\n",
    "counties.columns = counties.columns.str.lower()\n",
    "counties.rename(columns = {'name':'county_name'}, inplace=True)\n",
    "\n",
    "# Subset state counties\n",
    "counties = counties.loc[~counties['statefp'].isin(['02','15','60','66','69','72','78']), :]\n",
    "\n",
    "# Keep only FIP, name, and geometry\n",
    "counties = counties.loc[:,counties.columns.isin(['geoid', 'county_name', 'geometry'])]\n",
    "counties.shape"
   ]
  },
  {
   "cell_type": "markdown",
   "metadata": {},
   "source": [
    "## Hurricanes\n",
    "\n",
    "https://www.arcgis.com/home/item.html?id=9a2eb03d2b0e43df9065843d0e3efd09\n",
    "https://www.nhc.noaa.gov/data/#hurdat\n",
    "\n",
    "https://www.climate.gov/maps-data/dataset/historical-hurricane-tracks-gis-map-viewer\n",
    "https://www.ncdc.noaa.gov/ibtracs/pdf/IBTrACS_v04_column_documentation.pdf\n",
    "\n",
    "Data: https://www.ncdc.noaa.gov/ibtracs/index.php?name=ib-v4-access\n",
    "Track individual hurricanes [here](https://coast.noaa.gov/hurricanes/#map=4/32/-80)\n",
    "\n",
    "Compare with project [here](https://www.arcgis.com/apps/Cascade/index.html?appid=8f6013fdba6445e9a8732ff6cab9cd1a)."
   ]
  },
  {
   "cell_type": "code",
   "execution_count": 6,
   "metadata": {},
   "outputs": [
    {
     "name": "stdout",
     "output_type": "stream",
     "text": [
      "Our dataset contains\n",
      "Unique Hurricanes: 100 \n",
      "Unique Hurricanes > Cat 3: 37 \n"
     ]
    }
   ],
   "source": [
    "hurricanes = gpd.read_file('../../project_4_data/IBTrACS/IBTrACS.since1980.list.v04r00.lines.shp')\n",
    "hurricanes.columns = hurricanes.columns.str.lower()\n",
    "\n",
    "# Filter for north American storms\n",
    "hurricanes = hurricanes.loc[hurricanes['basin']=='NA' , : ]\n",
    "\n",
    "# Filter for hurricanes only\n",
    "hurricanes = hurricanes.loc[hurricanes['usa_status'].isin(['HU','HR'])]\n",
    "\n",
    "# Filter for data approaching or after landfall \n",
    "hurricanes = hurricanes.loc[hurricanes['landfall']==0 , : ]\n",
    "\n",
    "# Filter for hurricanes greater than cat 1 \n",
    "hurricanes = hurricanes.loc[hurricanes['usa_sshs'] > 0 , : ]\n",
    "\n",
    "# Keep only path geometry, strength category, and radii variables\n",
    "hurricanes = hurricanes.loc[:,['sid','usa_sshs','geometry']]\n",
    "\n",
    "print(f\"Our dataset contains\")\n",
    "print(f\"Unique Hurricanes: {hurricanes.loc[hurricanes['usa_sshs'] > 0 , 'sid' ].drop_duplicates().shape[0]} \")\n",
    "print(f\"Unique Hurricanes > Cat 3: {hurricanes.loc[hurricanes['usa_sshs'] > 2 , 'sid' ].drop_duplicates().shape[0]} \")\n"
   ]
  },
  {
   "cell_type": "code",
   "execution_count": 7,
   "metadata": {},
   "outputs": [
    {
     "data": {
      "text/plain": [
       "True"
      ]
     },
     "execution_count": 7,
     "metadata": {},
     "output_type": "execute_result"
    }
   ],
   "source": [
    "counties = counties.to_crs('epsg:4326')\n",
    "counties.crs == hurricanes.crs"
   ]
  },
  {
   "cell_type": "code",
   "execution_count": 8,
   "metadata": {},
   "outputs": [],
   "source": [
    "h_merge = gpd.sjoin(counties, hurricanes, how='left', op='intersects')\n",
    "\n",
    "# Remove duplicates and take maximum strength of hurricane in county\n",
    "hurr_events = h_merge.loc[:,['geoid', 'sid', 'usa_sshs']].drop_duplicates()\n",
    "hurr_events = hurr_events.groupby(['geoid', 'sid']).max().reset_index()\n",
    "\n",
    "# Tabulate hurricanes per county by category strength \n",
    "hurr_events = hurr_events.pivot_table(index='geoid', columns='usa_sshs', values='sid', aggfunc = 'count').reset_index()\n",
    "hurr_events.columns = ['geoid', 'hcount_cat1', 'hcount_cat2', 'hcount_cat3', 'hcount_cat4', 'hcount_cat5']\n",
    "\n",
    "# Sum all strengths\n",
    "hurr_events['hcount_all'] = hurr_events.drop('geoid', axis=1).sum(axis=1)\n",
    "hurr_events['hcount_major'] = hurr_events['hcount_cat3'] + hurr_events['hcount_cat4'] + hurr_events['hcount_cat5']\n"
   ]
  },
  {
   "cell_type": "code",
   "execution_count": 9,
   "metadata": {},
   "outputs": [],
   "source": [
    "hurr_summary = counties.merge(right=hurr_events, how='left', on='geoid')\n",
    "hurr_summary.to_file(\"../../project_4_new_data/hurricane_layer/hurricanes.shp\")"
   ]
  }
 ],
 "metadata": {
  "kernelspec": {
   "display_name": "Python [conda env:geo_env2] *",
   "language": "python",
   "name": "conda-env-geo_env2-py"
  },
  "language_info": {
   "codemirror_mode": {
    "name": "ipython",
    "version": 3
   },
   "file_extension": ".py",
   "mimetype": "text/x-python",
   "name": "python",
   "nbconvert_exporter": "python",
   "pygments_lexer": "ipython3",
   "version": "3.8.2"
  }
 },
 "nbformat": 4,
 "nbformat_minor": 4
}
