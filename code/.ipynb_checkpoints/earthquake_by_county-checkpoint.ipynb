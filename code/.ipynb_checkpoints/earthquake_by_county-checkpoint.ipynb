{
 "cells": [
  {
   "cell_type": "code",
   "execution_count": 1,
   "metadata": {},
   "outputs": [],
   "source": [
    "import shapely\n",
    "import geopandas as gpd\n",
    "import pandas as pd\n",
    "import numpy as np"
   ]
  },
  {
   "cell_type": "markdown",
   "metadata": {},
   "source": [
    "## County Import\n",
    "\n",
    "U.S. County shapefiles downloaded from U.S. Census at their TIGER/Line Shapefile portal [here](https://www.census.gov/cgi-bin/geo/shapefiles/index.php). We used the most recent shapefiles updated in 2019 and selected Counties (and equivalent) as our layer. A table of FIP section codes by county per 2018 can be found [here](https://www.census.gov/geographies/reference-files/2018/demo/popest/2018-fips.html).\n",
    "\n",
    "This project focuses on the contiguous 48 states, therefore we drop entries for the states of Alaska and Hawaii as well as U.S. island territories such as American Samoa, Guam, and Peurto Rice."
   ]
  },
  {
   "cell_type": "code",
   "execution_count": 2,
   "metadata": {},
   "outputs": [
    {
     "data": {
      "text/plain": [
       "(3108, 3)"
      ]
     },
     "execution_count": 2,
     "metadata": {},
     "output_type": "execute_result"
    }
   ],
   "source": [
    "counties = gpd.read_file('../../project_4_data/us_counties/tl_2019_us_county.shp')\n",
    "counties.columns = counties.columns.str.lower()\n",
    "counties.rename(columns = {'name':'county_name'}, inplace=True)\n",
    "\n",
    "# Subset state counties\n",
    "counties = counties.loc[~counties['statefp'].isin(['02','15','60','66','69','72','78']), :]\n",
    "\n",
    "# Keep only FIP, name, and geometry\n",
    "counties = counties.loc[:,counties.columns.isin(['geoid', 'county_name', 'geometry'])]\n",
    "counties.shape"
   ]
  },
  {
   "cell_type": "markdown",
   "metadata": {},
   "source": [
    "## Earthquake Risk\n",
    "\n",
    "To estimate risk of earthquake, we utilize the USGS the 2018 Update of the U.S. National Seismic Hazard Model. We download catalog item 3, Chance of Potentially Damaging Ground Shaking (MMI = VI) in 100 years, available [here](https://www.sciencebase.gov/catalog/item/5d55d0a5e4b01d82ce8eafa9). \n",
    "\n",
    "For each county, we average these probabilties across bins residing within county borders to estimate county risk. Our results closely match the non-aggregated GIS map provided."
   ]
  },
  {
   "cell_type": "code",
   "execution_count": 3,
   "metadata": {},
   "outputs": [
    {
     "name": "stdout",
     "output_type": "stream",
     "text": [
      "Contains 0 missing values.\n"
     ]
    },
    {
     "data": {
      "text/plain": [
       "(156861, 4)"
      ]
     },
     "execution_count": 3,
     "metadata": {},
     "output_type": "execute_result"
    }
   ],
   "source": [
    "earthquake = pd.read_csv('../../project_4_data/ProbMMI_VI_100Yrs_VariableVs30.csv')\n",
    "earthquake = gpd.GeoDataFrame(earthquake, geometry=gpd.points_from_xy(earthquake.lon, earthquake.lat))\n",
    "print(f\"Contains {earthquake.isnull().sum().sum()} missing values.\")\n",
    "earthquake.shape"
   ]
  },
  {
   "cell_type": "code",
   "execution_count": 4,
   "metadata": {},
   "outputs": [
    {
     "name": "stderr",
     "output_type": "stream",
     "text": [
      "C:\\Users\\james\\anaconda3\\envs\\geo_env2\\lib\\site-packages\\geopandas\\tools\\sjoin.py:58: UserWarning: CRS of frames being joined does not match!(epsg:4269 != None)\n",
      "  warn(\n"
     ]
    }
   ],
   "source": [
    "e_merge = gpd.sjoin(counties[['geoid','geometry']], earthquake, how='left', op='intersects')\n",
    "e_merge = e_merge.groupby(['geoid']).mean().reset_index()\n",
    "e_merge.rename({'PctProb100yrs':'earthquake_prob_100years'}, inplace=True)\n",
    "e_merge.drop(columns=['index_right','lon','lat'], inplace=True)\n",
    "earthq_summary = counties.merge(right=e_merge, how='left', on='geoid')"
   ]
  },
  {
   "cell_type": "code",
   "execution_count": 6,
   "metadata": {},
   "outputs": [],
   "source": [
    "earthq_summary.to_file(\"../../project_4_new_data/earthquake_layer/earthquake_risk_by_county.shp\")"
   ]
  }
 ],
 "metadata": {
  "kernelspec": {
   "display_name": "Python [conda env:geo_env2] *",
   "language": "python",
   "name": "conda-env-geo_env2-py"
  },
  "language_info": {
   "codemirror_mode": {
    "name": "ipython",
    "version": 3
   },
   "file_extension": ".py",
   "mimetype": "text/x-python",
   "name": "python",
   "nbconvert_exporter": "python",
   "pygments_lexer": "ipython3",
   "version": "3.8.2"
  }
 },
 "nbformat": 4,
 "nbformat_minor": 4
}
