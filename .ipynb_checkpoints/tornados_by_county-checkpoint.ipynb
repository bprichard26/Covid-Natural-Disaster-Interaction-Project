{
 "cells": [
  {
   "cell_type": "code",
   "execution_count": 1,
   "metadata": {},
   "outputs": [],
   "source": [
    "import shapely\n",
    "import geopandas as gpd\n",
    "import pandas as pd\n",
    "import numpy as np"
   ]
  },
  {
   "cell_type": "markdown",
   "metadata": {},
   "source": [
    "## County Import\n",
    "\n",
    "U.S. County shapefiles downloaded from U.S. Census at their TIGER/Line Shapefile portal [here](https://www.census.gov/cgi-bin/geo/shapefiles/index.php). We used the most recent shapefiles updated in 2019 and selected Counties (and equivalent) as our layer. A table of FIP section codes by county per 2018 can be found [here](https://www.census.gov/geographies/reference-files/2018/demo/popest/2018-fips.html).\n",
    "\n",
    "This project focuses on the contiguous 48 states, therefore we drop entries for the states of Alaska and Hawaii as well as U.S. island territories such as American Samoa, Guam, and Peurto Rice."
   ]
  },
  {
   "cell_type": "code",
   "execution_count": 2,
   "metadata": {},
   "outputs": [
    {
     "data": {
      "text/plain": [
       "(3108, 2)"
      ]
     },
     "execution_count": 2,
     "metadata": {},
     "output_type": "execute_result"
    }
   ],
   "source": [
    "counties = gpd.read_file('../project_4_data/us_counties/tl_2019_us_county.shp')\n",
    "counties.columns = counties.columns.str.lower()\n",
    "counties.rename(columns = {'countyname':'county_name'}, inplace=True)\n",
    "\n",
    "# Subset state counties\n",
    "counties = counties.loc[~counties['statefp'].isin(['02','15','60','66','69','72','78']), :]\n",
    "\n",
    "# Keep only FIP, name, and geometry\n",
    "counties = counties.loc[:,counties.columns.isin(['geoid', 'county_name', 'geometry'])]\n",
    "counties.shape"
   ]
  },
  {
   "cell_type": "markdown",
   "metadata": {},
   "source": [
    "## Tornados\n",
    "\n",
    "Out data on tornados event come from NOAA's Storm Prediction Center zipfiles for extreme weather events available [here](https://www.spc.noaa.gov/gis/svrgis/). We subset coccurrences since 1980 to match the time interval of data sources for other weather events and because data in this period were collected consistently, whereas values from the 1960s were often missing and imputed years later. Documentation provided [here](https://www.spc.noaa.gov/wcm/data/SPC_severe_database_description.pdf). Reference for tornado magnitudes available [here](https://www.weather.gov/mkx/taw-tornado_classification_safety).\n",
    "\n",
    "Below we tabulate tornado events by county using recorded geopaths."
   ]
  },
  {
   "cell_type": "code",
   "execution_count": 3,
   "metadata": {},
   "outputs": [],
   "source": [
    "tornados = gpd.read_file('../project_4_data/1950-2018-torn-aspath/1950-2018-torn-aspath.shp')"
   ]
  },
  {
   "cell_type": "code",
   "execution_count": 4,
   "metadata": {},
   "outputs": [
    {
     "name": "stdout",
     "output_type": "stream",
     "text": [
      "Contains 0 missing values.\n"
     ]
    },
    {
     "data": {
      "text/plain": [
       "(14349, 5)"
      ]
     },
     "execution_count": 4,
     "metadata": {},
     "output_type": "execute_result"
    }
   ],
   "source": [
    "tornados = tornados.loc[tornados['yr'] >= 2007, :]\n",
    "tornados = tornados.loc[: ,['mag', 'inj', 'fat', 'loss', 'geometry']]\n",
    "tornados.columns = ['magnitude', 'injuries', 'fatalities', 'econ_loss', 'geometry']\n",
    "print(f\"Contains {tornados.isnull().sum().sum()} missing values.\")\n",
    "tornados.shape"
   ]
  },
  {
   "cell_type": "code",
   "execution_count": 5,
   "metadata": {},
   "outputs": [
    {
     "name": "stderr",
     "output_type": "stream",
     "text": [
      "C:\\Users\\james\\anaconda3\\envs\\geo_env2\\lib\\site-packages\\geopandas\\tools\\sjoin.py:58: UserWarning: CRS of frames being joined does not match!(epsg:4269 != epsg:4326)\n",
      "  warn(\n"
     ]
    },
    {
     "data": {
      "text/plain": [
       "(17031, 7)"
      ]
     },
     "execution_count": 5,
     "metadata": {},
     "output_type": "execute_result"
    }
   ],
   "source": [
    "t_merge = gpd.sjoin(counties, tornados, how='left', op='intersects')\n",
    "t_merge.shape"
   ]
  },
  {
   "cell_type": "code",
   "execution_count": 6,
   "metadata": {},
   "outputs": [],
   "source": [
    "# Sum injuries and fatalities per county\n",
    "injuries = t_merge.groupby(['geoid'])['injuries'].sum().reset_index()\n",
    "fatalities = t_merge.groupby(['geoid'])['fatalities'].sum().reset_index()\n",
    "\n",
    "# Tabulate tornados counts per county by magnitude\n",
    "mag_events = t_merge.groupby(['geoid','magnitude']).count().reset_index()\n",
    "mag_events = mag_events.iloc[:,0:3]\n",
    "mag_events.columns=['geoid','magnitude', 'count']\n",
    "mag_events = mag_events.pivot(index='geoid', columns='magnitude', values='count').reset_index()\n",
    "mag_events.columns = ['geoid', 'tcount_unknown', 'tcount_f0', 'tcount_f1', 'tcount_f2', 'tcount_f3', 'tcount_f4', 'tcount_f5']\n",
    "mag_events['tcount_all'] = mag_events.drop('geoid', axis=1).sum(axis=1)\n",
    "\n",
    "# Concat tornado summaries together\n",
    "t_events = mag_events.merge(right=injuries, how='left', on='geoid')\n",
    "t_events = t_events.merge(right=fatalities, how='left', on='geoid')\n",
    "t_events.replace({np.nan:0}, inplace=True)\n",
    "\n",
    "# Merge with counties file to tornados summary stats\n",
    "torn_summary = counties.merge(right=t_events, how='left', on='geoid')"
   ]
  },
  {
   "cell_type": "code",
   "execution_count": 8,
   "metadata": {},
   "outputs": [],
   "source": [
    "torn_summary.to_file(\"../project_4_new_data/tornado_layer/tornados_by_county.shp\")"
   ]
  }
 ],
 "metadata": {
  "kernelspec": {
   "display_name": "Python [conda env:geo_env2] *",
   "language": "python",
   "name": "conda-env-geo_env2-py"
  },
  "language_info": {
   "codemirror_mode": {
    "name": "ipython",
    "version": 3
   },
   "file_extension": ".py",
   "mimetype": "text/x-python",
   "name": "python",
   "nbconvert_exporter": "python",
   "pygments_lexer": "ipython3",
   "version": "3.8.2"
  }
 },
 "nbformat": 4,
 "nbformat_minor": 4
}
