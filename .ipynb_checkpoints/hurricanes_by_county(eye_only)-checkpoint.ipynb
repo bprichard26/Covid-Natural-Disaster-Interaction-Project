{
 "cells": [
  {
   "cell_type": "code",
   "execution_count": 1,
   "metadata": {},
   "outputs": [],
   "source": [
    "import shapely\n",
    "import geopandas as gpd\n",
    "import pandas as pd\n",
    "import numpy as np\n",
    "# import matpltolib.pyplot as plt\n",
    "# import seaborn as sns"
   ]
  },
  {
   "cell_type": "markdown",
   "metadata": {},
   "source": [
    "## County Import\n",
    "\n",
    "U.S. County shapefiles downloaded from U.S. Census at their TIGER/Line Shapefile portal [here](https://www.census.gov/cgi-bin/geo/shapefiles/index.php). We used the most recent shapefiles updated in 2019 and selected Counties (and equivalent) as our layer. A table of FIP section codes by county per 2018 can be found [here](https://www.census.gov/geographies/reference-files/2018/demo/popest/2018-fips.html).\n",
    "\n",
    "This project focuses on the contiguous 48 states, therefore we drop entries for the states of Alaska and Hawaii as well as U.S. island territories such as American Samoa, Guam, and Peurto Rice."
   ]
  },
  {
   "cell_type": "code",
   "execution_count": 2,
   "metadata": {},
   "outputs": [
    {
     "data": {
      "text/plain": [
       "(3108, 2)"
      ]
     },
     "execution_count": 2,
     "metadata": {},
     "output_type": "execute_result"
    }
   ],
   "source": [
    "counties = gpd.read_file('../project_4_data/us_counties/tl_2019_us_county.shp')\n",
    "counties.columns = counties.columns.str.lower()\n",
    "counties.rename(columns = {'countyname':'county_name'}, inplace=True)\n",
    "\n",
    "# Subset state counties\n",
    "counties = counties.loc[~counties['statefp'].isin(['02','15','60','66','69','72','78']), :]\n",
    "\n",
    "# Keep only FIP, name, and geometry\n",
    "counties = counties.loc[:,counties.columns.isin(['geoid', 'county_name', 'geometry'])]\n",
    "counties.shape"
   ]
  },
  {
   "cell_type": "markdown",
   "metadata": {},
   "source": [
    "## Hurricanes\n",
    "\n",
    "https://www.arcgis.com/home/item.html?id=9a2eb03d2b0e43df9065843d0e3efd09\n",
    "https://www.nhc.noaa.gov/data/#hurdat\n",
    "\n",
    "https://www.climate.gov/maps-data/dataset/historical-hurricane-tracks-gis-map-viewer\n",
    "https://www.ncdc.noaa.gov/ibtracs/pdf/IBTrACS_v04_column_documentation.pdf\n",
    "\n",
    "Data: https://www.ncdc.noaa.gov/ibtracs/index.php?name=ib-v4-access\n",
    "Track individual hurricanes [here](https://coast.noaa.gov/hurricanes/#map=4/32/-80)\n",
    "\n",
    "Compare with project [here](https://www.arcgis.com/apps/Cascade/index.html?appid=8f6013fdba6445e9a8732ff6cab9cd1a)."
   ]
  },
  {
   "cell_type": "code",
   "execution_count": 3,
   "metadata": {},
   "outputs": [
    {
     "name": "stdout",
     "output_type": "stream",
     "text": [
      "(209, 3)\n"
     ]
    }
   ],
   "source": [
    "hurricanes = gpd.read_file('../project_4_data/IBTrACS/IBTrACS.since1980.list.v04r00.lines.shp')\n",
    "hurricanes.columns = hurricanes.columns.str.lower()\n",
    "\n",
    "# Filter for north American storms\n",
    "hurricanes = hurricanes.loc[hurricanes['basin']=='NA' , : ]\n",
    "\n",
    "# Filter for hurricanes only\n",
    "hurricanes = hurricanes.loc[hurricanes['usa_status'].isin(['HU','HR'])]\n",
    "\n",
    "# Filter for data approaching or after landfall \n",
    "hurricanes = hurricanes.loc[hurricanes['landfall']==0 , : ]\n",
    "\n",
    "# Filter for hurricanes greater than cat 1 \n",
    "hurricanes = hurricanes.loc[hurricanes['usa_sshs'] > 1 , : ]\n",
    "\n",
    "# Keep only path geometry and strength category\n",
    "hurricanes = hurricanes.loc[:,['sid', 'usa_sshs', 'geometry']]\n",
    "\n",
    "print(hurricanes.shape)"
   ]
  },
  {
   "cell_type": "code",
   "execution_count": 4,
   "metadata": {},
   "outputs": [
    {
     "name": "stderr",
     "output_type": "stream",
     "text": [
      "C:\\Users\\james\\anaconda3\\envs\\geo_env2\\lib\\site-packages\\geopandas\\tools\\sjoin.py:58: UserWarning: CRS of frames being joined does not match!(epsg:4269 != epsg:4326)\n",
      "  warn(\n"
     ]
    }
   ],
   "source": [
    "h_merge = gpd.sjoin(counties, hurricanes, how='left', op='intersects')\n",
    "\n",
    "# Remove duplicates and take maximum strength of hurricane in county\n",
    "hurr_events = h_merge.loc[:,['geoid', 'sid', 'usa_sshs']].drop_duplicates()\n",
    "hurr_events = hurr_events.groupby(['geoid', 'sid']).max().reset_index()\n",
    "\n",
    "# Tabulate hurricanes per county by category strength \n",
    "hurr_events = hurr_events.pivot_table(index='geoid', columns='usa_sshs', values='sid', aggfunc = 'count').reset_index()\n",
    "hurr_events.columns = ['geoid', 'hcount_cat2', 'hcount_cat3', 'hcount_cat4', 'hcount_cat5']\n",
    "#hurr_events.replace({np.nan:0}, inplace=True)\n",
    "hurr_events['hcount_all'] = hurr_events.drop('geoid', axis=1).sum(axis=1)"
   ]
  },
  {
   "cell_type": "code",
   "execution_count": 5,
   "metadata": {},
   "outputs": [
    {
     "data": {
      "text/html": [
       "<div>\n",
       "<style scoped>\n",
       "    .dataframe tbody tr th:only-of-type {\n",
       "        vertical-align: middle;\n",
       "    }\n",
       "\n",
       "    .dataframe tbody tr th {\n",
       "        vertical-align: top;\n",
       "    }\n",
       "\n",
       "    .dataframe thead th {\n",
       "        text-align: right;\n",
       "    }\n",
       "</style>\n",
       "<table border=\"1\" class=\"dataframe\">\n",
       "  <thead>\n",
       "    <tr style=\"text-align: right;\">\n",
       "      <th></th>\n",
       "      <th>geoid</th>\n",
       "      <th>geometry</th>\n",
       "      <th>hcount_cat2</th>\n",
       "      <th>hcount_cat3</th>\n",
       "      <th>hcount_cat4</th>\n",
       "      <th>hcount_cat5</th>\n",
       "      <th>hcount_all</th>\n",
       "    </tr>\n",
       "  </thead>\n",
       "  <tbody>\n",
       "    <tr>\n",
       "      <th>0</th>\n",
       "      <td>31039</td>\n",
       "      <td>POLYGON ((-97.01952 42.00410, -97.01952 42.004...</td>\n",
       "      <td>NaN</td>\n",
       "      <td>NaN</td>\n",
       "      <td>NaN</td>\n",
       "      <td>NaN</td>\n",
       "      <td>NaN</td>\n",
       "    </tr>\n",
       "    <tr>\n",
       "      <th>1</th>\n",
       "      <td>53069</td>\n",
       "      <td>POLYGON ((-123.43639 46.23820, -123.44759 46.2...</td>\n",
       "      <td>NaN</td>\n",
       "      <td>NaN</td>\n",
       "      <td>NaN</td>\n",
       "      <td>NaN</td>\n",
       "      <td>NaN</td>\n",
       "    </tr>\n",
       "    <tr>\n",
       "      <th>2</th>\n",
       "      <td>35011</td>\n",
       "      <td>POLYGON ((-104.56739 33.99757, -104.56772 33.9...</td>\n",
       "      <td>NaN</td>\n",
       "      <td>NaN</td>\n",
       "      <td>NaN</td>\n",
       "      <td>NaN</td>\n",
       "      <td>NaN</td>\n",
       "    </tr>\n",
       "    <tr>\n",
       "      <th>3</th>\n",
       "      <td>31109</td>\n",
       "      <td>POLYGON ((-96.91075 40.78494, -96.91075 40.790...</td>\n",
       "      <td>NaN</td>\n",
       "      <td>NaN</td>\n",
       "      <td>NaN</td>\n",
       "      <td>NaN</td>\n",
       "      <td>NaN</td>\n",
       "    </tr>\n",
       "    <tr>\n",
       "      <th>4</th>\n",
       "      <td>31129</td>\n",
       "      <td>POLYGON ((-98.27367 40.08940, -98.27367 40.089...</td>\n",
       "      <td>NaN</td>\n",
       "      <td>NaN</td>\n",
       "      <td>NaN</td>\n",
       "      <td>NaN</td>\n",
       "      <td>NaN</td>\n",
       "    </tr>\n",
       "  </tbody>\n",
       "</table>\n",
       "</div>"
      ],
      "text/plain": [
       "   geoid                                           geometry  hcount_cat2  \\\n",
       "0  31039  POLYGON ((-97.01952 42.00410, -97.01952 42.004...          NaN   \n",
       "1  53069  POLYGON ((-123.43639 46.23820, -123.44759 46.2...          NaN   \n",
       "2  35011  POLYGON ((-104.56739 33.99757, -104.56772 33.9...          NaN   \n",
       "3  31109  POLYGON ((-96.91075 40.78494, -96.91075 40.790...          NaN   \n",
       "4  31129  POLYGON ((-98.27367 40.08940, -98.27367 40.089...          NaN   \n",
       "\n",
       "   hcount_cat3  hcount_cat4  hcount_cat5  hcount_all  \n",
       "0          NaN          NaN          NaN         NaN  \n",
       "1          NaN          NaN          NaN         NaN  \n",
       "2          NaN          NaN          NaN         NaN  \n",
       "3          NaN          NaN          NaN         NaN  \n",
       "4          NaN          NaN          NaN         NaN  "
      ]
     },
     "execution_count": 5,
     "metadata": {},
     "output_type": "execute_result"
    }
   ],
   "source": [
    "hurr_summary = counties.merge(right=hurr_events, how='left', on='geoid')\n",
    "hurr_summary.head()"
   ]
  },
  {
   "cell_type": "code",
   "execution_count": 6,
   "metadata": {},
   "outputs": [
    {
     "data": {
      "text/plain": [
       "1.0    67\n",
       "2.0    23\n",
       "3.0     2\n",
       "4.0     1\n",
       "Name: hcount_all, dtype: int64"
      ]
     },
     "execution_count": 6,
     "metadata": {},
     "output_type": "execute_result"
    }
   ],
   "source": [
    "hurr_events['hcount_all'].value_counts()"
   ]
  },
  {
   "cell_type": "code",
   "execution_count": 7,
   "metadata": {},
   "outputs": [],
   "source": [
    "hurr_summary.to_file(\"../project_4_new_data/hurricane_layer/hurricanes.shp\")"
   ]
  }
 ],
 "metadata": {
  "kernelspec": {
   "display_name": "Python [conda env:geo_env2] *",
   "language": "python",
   "name": "conda-env-geo_env2-py"
  },
  "language_info": {
   "codemirror_mode": {
    "name": "ipython",
    "version": 3
   },
   "file_extension": ".py",
   "mimetype": "text/x-python",
   "name": "python",
   "nbconvert_exporter": "python",
   "pygments_lexer": "ipython3",
   "version": "3.8.2"
  }
 },
 "nbformat": 4,
 "nbformat_minor": 4
}
